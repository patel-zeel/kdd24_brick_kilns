{
 "cells": [
  {
   "cell_type": "code",
   "execution_count": 57,
   "metadata": {},
   "outputs": [],
   "source": [
    "from os.path import join\n",
    "from glob import glob\n",
    "import pandas as pd"
   ]
  },
  {
   "cell_type": "code",
   "execution_count": 58,
   "metadata": {},
   "outputs": [
    {
     "name": "stdout",
     "output_type": "stream",
     "text": [
      "['muz.csv', 'dar.csv', 'od.csv', 'wb.csv', 'up.csv', 'mewat.csv', 'madhu.csv']\n"
     ]
    },
    {
     "data": {
      "text/plain": [
       "(4618, 8)"
      ]
     },
     "execution_count": 58,
     "metadata": {},
     "output_type": "execute_result"
    }
   ],
   "source": [
    "df_list = glob(\"/home/patel_zeel/kdd24_brick_kilns/data/pred_labeled/*.csv\")\n",
    "print(list(map(lambda x: x.split(\"/\")[-1], df_list)))\n",
    "\n",
    "df = pd.concat([pd.read_csv(name) for name in df_list])\n",
    "df.shape"
   ]
  },
  {
   "cell_type": "code",
   "execution_count": 59,
   "metadata": {},
   "outputs": [
    {
     "data": {
      "text/html": [
       "<div>\n",
       "<style scoped>\n",
       "    .dataframe tbody tr th:only-of-type {\n",
       "        vertical-align: middle;\n",
       "    }\n",
       "\n",
       "    .dataframe tbody tr th {\n",
       "        vertical-align: top;\n",
       "    }\n",
       "\n",
       "    .dataframe thead th {\n",
       "        text-align: right;\n",
       "    }\n",
       "</style>\n",
       "<table border=\"1\" class=\"dataframe\">\n",
       "  <thead>\n",
       "    <tr style=\"text-align: right;\">\n",
       "      <th></th>\n",
       "      <th>annotation_id</th>\n",
       "      <th>annotator</th>\n",
       "      <th>choice</th>\n",
       "      <th>created_at</th>\n",
       "      <th>id</th>\n",
       "      <th>image</th>\n",
       "      <th>lead_time</th>\n",
       "      <th>updated_at</th>\n",
       "    </tr>\n",
       "  </thead>\n",
       "  <tbody>\n",
       "    <tr>\n",
       "      <th>0</th>\n",
       "      <td>2285</td>\n",
       "      <td>1</td>\n",
       "      <td>BK</td>\n",
       "      <td>2024-02-08T10:29:19.889691Z</td>\n",
       "      <td>9004</td>\n",
       "      <td>/data/local-files/?d=home/patel_zeel/bkdb/biha...</td>\n",
       "      <td>24.598</td>\n",
       "      <td>2024-02-08T11:05:30.106610Z</td>\n",
       "    </tr>\n",
       "    <tr>\n",
       "      <th>1</th>\n",
       "      <td>2286</td>\n",
       "      <td>1</td>\n",
       "      <td>BK</td>\n",
       "      <td>2024-02-08T10:30:41.231889Z</td>\n",
       "      <td>9005</td>\n",
       "      <td>/data/local-files/?d=home/patel_zeel/bkdb/biha...</td>\n",
       "      <td>65.845</td>\n",
       "      <td>2024-02-08T10:30:41.231905Z</td>\n",
       "    </tr>\n",
       "  </tbody>\n",
       "</table>\n",
       "</div>"
      ],
      "text/plain": [
       "   annotation_id  annotator choice                   created_at    id  \\\n",
       "0           2285          1     BK  2024-02-08T10:29:19.889691Z  9004   \n",
       "1           2286          1     BK  2024-02-08T10:30:41.231889Z  9005   \n",
       "\n",
       "                                               image  lead_time  \\\n",
       "0  /data/local-files/?d=home/patel_zeel/bkdb/biha...     24.598   \n",
       "1  /data/local-files/?d=home/patel_zeel/bkdb/biha...     65.845   \n",
       "\n",
       "                    updated_at  \n",
       "0  2024-02-08T11:05:30.106610Z  \n",
       "1  2024-02-08T10:30:41.231905Z  "
      ]
     },
     "execution_count": 59,
     "metadata": {},
     "output_type": "execute_result"
    }
   ],
   "source": [
    "df.head(2)"
   ]
  },
  {
   "cell_type": "code",
   "execution_count": 60,
   "metadata": {},
   "outputs": [],
   "source": [
    "# df.image.iloc[1000]"
   ]
  },
  {
   "cell_type": "code",
   "execution_count": 79,
   "metadata": {},
   "outputs": [
    {
     "name": "stdout",
     "output_type": "stream",
     "text": [
      "['Muzaffarpur' 'Darbhanga' 'munger' 'saharsa' 'madhepura' 'fazilka'\n",
      " 'gurudaspur' 'harshipura' 'pathankot' 'REWARI' 'SIRSA' 'YAMUNANAGAR'\n",
      " 'KARNAL' 'FATEHABAD' 'HISAR' 'KOLKATA' 'DAKSHIN%20DINAJPUR' 'HAMIRPUR'\n",
      " 'CHITRAKOOT' 'KANNAUJ' 'KAUSHAMBI' 'JAUNPUR' 'mewat' 'madhubani']\n",
      "24\n"
     ]
    },
    {
     "data": {
      "text/html": [
       "<div>\n",
       "<style scoped>\n",
       "    .dataframe tbody tr th:only-of-type {\n",
       "        vertical-align: middle;\n",
       "    }\n",
       "\n",
       "    .dataframe tbody tr th {\n",
       "        vertical-align: top;\n",
       "    }\n",
       "\n",
       "    .dataframe thead th {\n",
       "        text-align: right;\n",
       "    }\n",
       "</style>\n",
       "<table border=\"1\" class=\"dataframe\">\n",
       "  <thead>\n",
       "    <tr style=\"text-align: right;\">\n",
       "      <th></th>\n",
       "      <th>annotation_id</th>\n",
       "      <th>annotator</th>\n",
       "      <th>choice</th>\n",
       "      <th>created_at</th>\n",
       "      <th>id</th>\n",
       "      <th>image</th>\n",
       "      <th>lead_time</th>\n",
       "      <th>updated_at</th>\n",
       "      <th>district</th>\n",
       "      <th>lat</th>\n",
       "      <th>lon</th>\n",
       "      <th>lat_lag</th>\n",
       "      <th>lon_lag</th>\n",
       "      <th>real_lat</th>\n",
       "      <th>real_lon</th>\n",
       "    </tr>\n",
       "  </thead>\n",
       "  <tbody>\n",
       "    <tr>\n",
       "      <th>0</th>\n",
       "      <td>2285</td>\n",
       "      <td>1</td>\n",
       "      <td>BK</td>\n",
       "      <td>2024-02-08T10:29:19.889691Z</td>\n",
       "      <td>9004</td>\n",
       "      <td>/data/local-files/?d=home/patel_zeel/bkdb/biha...</td>\n",
       "      <td>24.598</td>\n",
       "      <td>2024-02-08T11:05:30.106610Z</td>\n",
       "      <td>Muzaffarpur</td>\n",
       "      <td>25.91</td>\n",
       "      <td>85.55</td>\n",
       "      <td>-1</td>\n",
       "      <td>2</td>\n",
       "      <td>25.908</td>\n",
       "      <td>85.554</td>\n",
       "    </tr>\n",
       "    <tr>\n",
       "      <th>1</th>\n",
       "      <td>2286</td>\n",
       "      <td>1</td>\n",
       "      <td>BK</td>\n",
       "      <td>2024-02-08T10:30:41.231889Z</td>\n",
       "      <td>9005</td>\n",
       "      <td>/data/local-files/?d=home/patel_zeel/bkdb/biha...</td>\n",
       "      <td>65.845</td>\n",
       "      <td>2024-02-08T10:30:41.231905Z</td>\n",
       "      <td>Muzaffarpur</td>\n",
       "      <td>25.91</td>\n",
       "      <td>85.55</td>\n",
       "      <td>-2</td>\n",
       "      <td>2</td>\n",
       "      <td>25.906</td>\n",
       "      <td>85.554</td>\n",
       "    </tr>\n",
       "  </tbody>\n",
       "</table>\n",
       "</div>"
      ],
      "text/plain": [
       "   annotation_id  annotator choice                   created_at    id  \\\n",
       "0           2285          1     BK  2024-02-08T10:29:19.889691Z  9004   \n",
       "1           2286          1     BK  2024-02-08T10:30:41.231889Z  9005   \n",
       "\n",
       "                                               image  lead_time  \\\n",
       "0  /data/local-files/?d=home/patel_zeel/bkdb/biha...     24.598   \n",
       "1  /data/local-files/?d=home/patel_zeel/bkdb/biha...     65.845   \n",
       "\n",
       "                    updated_at     district    lat    lon  lat_lag  lon_lag  \\\n",
       "0  2024-02-08T11:05:30.106610Z  Muzaffarpur  25.91  85.55       -1        2   \n",
       "1  2024-02-08T10:30:41.231905Z  Muzaffarpur  25.91  85.55       -2        2   \n",
       "\n",
       "   real_lat  real_lon  \n",
       "0    25.908    85.554  \n",
       "1    25.906    85.554  "
      ]
     },
     "execution_count": 79,
     "metadata": {},
     "output_type": "execute_result"
    }
   ],
   "source": [
    "df[\"district\"] = df[\"image\"].apply(lambda x: x.split(\"/\")[-2])\n",
    "print(df.district.unique())\n",
    "print(len(df.district.unique()))\n",
    "df.head(2)"
   ]
  },
  {
   "cell_type": "code",
   "execution_count": 69,
   "metadata": {},
   "outputs": [
    {
     "data": {
      "text/html": [
       "<div>\n",
       "<style scoped>\n",
       "    .dataframe tbody tr th:only-of-type {\n",
       "        vertical-align: middle;\n",
       "    }\n",
       "\n",
       "    .dataframe tbody tr th {\n",
       "        vertical-align: top;\n",
       "    }\n",
       "\n",
       "    .dataframe thead th {\n",
       "        text-align: right;\n",
       "    }\n",
       "</style>\n",
       "<table border=\"1\" class=\"dataframe\">\n",
       "  <thead>\n",
       "    <tr style=\"text-align: right;\">\n",
       "      <th></th>\n",
       "      <th>annotation_id</th>\n",
       "      <th>annotator</th>\n",
       "      <th>choice</th>\n",
       "      <th>created_at</th>\n",
       "      <th>id</th>\n",
       "      <th>image</th>\n",
       "      <th>lead_time</th>\n",
       "      <th>updated_at</th>\n",
       "      <th>district</th>\n",
       "      <th>lat</th>\n",
       "      <th>lon</th>\n",
       "      <th>lat_lag</th>\n",
       "      <th>lon_lag</th>\n",
       "    </tr>\n",
       "  </thead>\n",
       "  <tbody>\n",
       "    <tr>\n",
       "      <th>0</th>\n",
       "      <td>2285</td>\n",
       "      <td>1</td>\n",
       "      <td>BK</td>\n",
       "      <td>2024-02-08T10:29:19.889691Z</td>\n",
       "      <td>9004</td>\n",
       "      <td>/data/local-files/?d=home/patel_zeel/bkdb/biha...</td>\n",
       "      <td>24.598</td>\n",
       "      <td>2024-02-08T11:05:30.106610Z</td>\n",
       "      <td>Muzaffarpur</td>\n",
       "      <td>25.91</td>\n",
       "      <td>85.55</td>\n",
       "      <td>-1</td>\n",
       "      <td>2</td>\n",
       "    </tr>\n",
       "    <tr>\n",
       "      <th>1</th>\n",
       "      <td>2286</td>\n",
       "      <td>1</td>\n",
       "      <td>BK</td>\n",
       "      <td>2024-02-08T10:30:41.231889Z</td>\n",
       "      <td>9005</td>\n",
       "      <td>/data/local-files/?d=home/patel_zeel/bkdb/biha...</td>\n",
       "      <td>65.845</td>\n",
       "      <td>2024-02-08T10:30:41.231905Z</td>\n",
       "      <td>Muzaffarpur</td>\n",
       "      <td>25.91</td>\n",
       "      <td>85.55</td>\n",
       "      <td>-2</td>\n",
       "      <td>2</td>\n",
       "    </tr>\n",
       "  </tbody>\n",
       "</table>\n",
       "</div>"
      ],
      "text/plain": [
       "   annotation_id  annotator choice                   created_at    id  \\\n",
       "0           2285          1     BK  2024-02-08T10:29:19.889691Z  9004   \n",
       "1           2286          1     BK  2024-02-08T10:30:41.231889Z  9005   \n",
       "\n",
       "                                               image  lead_time  \\\n",
       "0  /data/local-files/?d=home/patel_zeel/bkdb/biha...     24.598   \n",
       "1  /data/local-files/?d=home/patel_zeel/bkdb/biha...     65.845   \n",
       "\n",
       "                    updated_at     district    lat    lon  lat_lag  lon_lag  \n",
       "0  2024-02-08T11:05:30.106610Z  Muzaffarpur  25.91  85.55       -1        2  \n",
       "1  2024-02-08T10:30:41.231905Z  Muzaffarpur  25.91  85.55       -2        2  "
      ]
     },
     "execution_count": 69,
     "metadata": {},
     "output_type": "execute_result"
    }
   ],
   "source": [
    "df[\"lat\"] = df[\"image\"].apply(lambda x: float(x.split(\"/\")[-1].split(\"%2C\")[0]))\n",
    "df[\"lon\"] = df[\"image\"].apply(lambda x: float(x.split(\"/\")[-1].split(\"%2C\")[1].split(\"_\")[0]))\n",
    "df[\"lat_lag\"] = df[\"image\"].apply(lambda x: int(x.split(\"/\")[-1].split(\"%2C\")[1].split(\"_\")[1]))\n",
    "df[\"lon_lag\"] = df[\"image\"].apply(lambda x: int(x.split(\"/\")[-1].split(\"%2C\")[1].split(\"_\")[2].split(\".\")[0]))\n",
    "df.head(2)"
   ]
  },
  {
   "cell_type": "code",
   "execution_count": 70,
   "metadata": {},
   "outputs": [
    {
     "data": {
      "text/plain": [
       "4578"
      ]
     },
     "execution_count": 70,
     "metadata": {},
     "output_type": "execute_result"
    }
   ],
   "source": [
    "df.choice.value_counts().sum()"
   ]
  },
  {
   "cell_type": "code",
   "execution_count": 71,
   "metadata": {},
   "outputs": [
    {
     "data": {
      "text/plain": [
       "8905"
      ]
     },
     "execution_count": 71,
     "metadata": {},
     "output_type": "execute_result"
    }
   ],
   "source": [
    "7277+1628"
   ]
  },
  {
   "cell_type": "code",
   "execution_count": 72,
   "metadata": {},
   "outputs": [
    {
     "data": {
      "text/plain": [
       "4327"
      ]
     },
     "execution_count": 72,
     "metadata": {},
     "output_type": "execute_result"
    }
   ],
   "source": [
    "8905 - 4578"
   ]
  },
  {
   "cell_type": "code",
   "execution_count": 73,
   "metadata": {},
   "outputs": [
    {
     "data": {
      "text/plain": [
       "(4452, 13)"
      ]
     },
     "execution_count": 73,
     "metadata": {},
     "output_type": "execute_result"
    }
   ],
   "source": [
    "df.drop_duplicates(subset=[\"image\"]).shape"
   ]
  },
  {
   "cell_type": "code",
   "execution_count": 74,
   "metadata": {},
   "outputs": [
    {
     "data": {
      "text/plain": [
       "annotation_id      int64\n",
       "annotator          int64\n",
       "choice            object\n",
       "created_at        object\n",
       "id                 int64\n",
       "image             object\n",
       "lead_time        float64\n",
       "updated_at        object\n",
       "district          object\n",
       "lat              float64\n",
       "lon              float64\n",
       "lat_lag            int64\n",
       "lon_lag            int64\n",
       "dtype: object"
      ]
     },
     "execution_count": 74,
     "metadata": {},
     "output_type": "execute_result"
    }
   ],
   "source": [
    "df.dtypes"
   ]
  },
  {
   "cell_type": "code",
   "execution_count": 76,
   "metadata": {},
   "outputs": [
    {
     "data": {
      "text/html": [
       "<div>\n",
       "<style scoped>\n",
       "    .dataframe tbody tr th:only-of-type {\n",
       "        vertical-align: middle;\n",
       "    }\n",
       "\n",
       "    .dataframe tbody tr th {\n",
       "        vertical-align: top;\n",
       "    }\n",
       "\n",
       "    .dataframe thead th {\n",
       "        text-align: right;\n",
       "    }\n",
       "</style>\n",
       "<table border=\"1\" class=\"dataframe\">\n",
       "  <thead>\n",
       "    <tr style=\"text-align: right;\">\n",
       "      <th></th>\n",
       "      <th>annotation_id</th>\n",
       "      <th>annotator</th>\n",
       "      <th>choice</th>\n",
       "      <th>created_at</th>\n",
       "      <th>id</th>\n",
       "      <th>image</th>\n",
       "      <th>lead_time</th>\n",
       "      <th>updated_at</th>\n",
       "      <th>district</th>\n",
       "      <th>lat</th>\n",
       "      <th>lon</th>\n",
       "      <th>lat_lag</th>\n",
       "      <th>lon_lag</th>\n",
       "      <th>real_lat</th>\n",
       "      <th>real_lon</th>\n",
       "    </tr>\n",
       "  </thead>\n",
       "  <tbody>\n",
       "    <tr>\n",
       "      <th>0</th>\n",
       "      <td>2285</td>\n",
       "      <td>1</td>\n",
       "      <td>BK</td>\n",
       "      <td>2024-02-08T10:29:19.889691Z</td>\n",
       "      <td>9004</td>\n",
       "      <td>/data/local-files/?d=home/patel_zeel/bkdb/biha...</td>\n",
       "      <td>24.598</td>\n",
       "      <td>2024-02-08T11:05:30.106610Z</td>\n",
       "      <td>Muzaffarpur</td>\n",
       "      <td>25.91</td>\n",
       "      <td>85.55</td>\n",
       "      <td>-1</td>\n",
       "      <td>2</td>\n",
       "      <td>25.908</td>\n",
       "      <td>85.554</td>\n",
       "    </tr>\n",
       "    <tr>\n",
       "      <th>1</th>\n",
       "      <td>2286</td>\n",
       "      <td>1</td>\n",
       "      <td>BK</td>\n",
       "      <td>2024-02-08T10:30:41.231889Z</td>\n",
       "      <td>9005</td>\n",
       "      <td>/data/local-files/?d=home/patel_zeel/bkdb/biha...</td>\n",
       "      <td>65.845</td>\n",
       "      <td>2024-02-08T10:30:41.231905Z</td>\n",
       "      <td>Muzaffarpur</td>\n",
       "      <td>25.91</td>\n",
       "      <td>85.55</td>\n",
       "      <td>-2</td>\n",
       "      <td>2</td>\n",
       "      <td>25.906</td>\n",
       "      <td>85.554</td>\n",
       "    </tr>\n",
       "  </tbody>\n",
       "</table>\n",
       "</div>"
      ],
      "text/plain": [
       "   annotation_id  annotator choice                   created_at    id  \\\n",
       "0           2285          1     BK  2024-02-08T10:29:19.889691Z  9004   \n",
       "1           2286          1     BK  2024-02-08T10:30:41.231889Z  9005   \n",
       "\n",
       "                                               image  lead_time  \\\n",
       "0  /data/local-files/?d=home/patel_zeel/bkdb/biha...     24.598   \n",
       "1  /data/local-files/?d=home/patel_zeel/bkdb/biha...     65.845   \n",
       "\n",
       "                    updated_at     district    lat    lon  lat_lag  lon_lag  \\\n",
       "0  2024-02-08T11:05:30.106610Z  Muzaffarpur  25.91  85.55       -1        2   \n",
       "1  2024-02-08T10:30:41.231905Z  Muzaffarpur  25.91  85.55       -2        2   \n",
       "\n",
       "   real_lat  real_lon  \n",
       "0    25.908    85.554  \n",
       "1    25.906    85.554  "
      ]
     },
     "execution_count": 76,
     "metadata": {},
     "output_type": "execute_result"
    }
   ],
   "source": [
    "df[\"real_lat\"] = df[\"lat\"] + 0.002 * df[\"lat_lag\"]\n",
    "df[\"real_lon\"] = df[\"lon\"] + 0.002 * df[\"lon_lag\"]\n",
    "df.head(2)"
   ]
  },
  {
   "cell_type": "code",
   "execution_count": 80,
   "metadata": {},
   "outputs": [],
   "source": [
    "df.drop_duplicates(subset=[\"image\"])[['real_lat', 'real_lon', 'district']].rename(columns={\"real_lat\": \"lat\", \"real_lon\": \"lon\"}).to_csv(\"temp.csv\", index=False)"
   ]
  }
 ],
 "metadata": {
  "kernelspec": {
   "display_name": "torch_gpu_py311",
   "language": "python",
   "name": "python3"
  },
  "language_info": {
   "codemirror_mode": {
    "name": "ipython",
    "version": 3
   },
   "file_extension": ".py",
   "mimetype": "text/x-python",
   "name": "python",
   "nbconvert_exporter": "python",
   "pygments_lexer": "ipython3",
   "version": "3.11.5"
  }
 },
 "nbformat": 4,
 "nbformat_minor": 2
}
